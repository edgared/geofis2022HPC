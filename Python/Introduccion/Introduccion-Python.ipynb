{
 "cells": [
  {
   "cell_type": "markdown",
   "id": "a51a660f",
   "metadata": {
    "hide_input": false,
    "slideshow": {
     "slide_type": "slide"
    }
   },
   "source": [
    "<img src=\"./../images/logos-juntos.png\" style=\"float: center\" width=1000 style=\"padding-bottom:5px;\"/>\n",
    "\n",
    "<h2 style=\"text-align: center; font-size:4rem;\"><center>Introducción al Lenguaje de</center> \n",
    "    <br>\n",
    "    <center>Programación Python</center>\n",
    "</h2>"
   ]
  },
  {
   "cell_type": "markdown",
   "id": "2551ac2f",
   "metadata": {
    "heading_collapsed": true,
    "slideshow": {
     "slide_type": "slide"
    }
   },
   "source": [
    "### ¿Por qué aprender [**Python**](https://www.python.org/)? <span style=\"color:coral; font-size:1rem;\">(Sin evangelizar ni decirte que Python es el 'mejor lenguaje de programación')</span>\n",
    "\n",
    "* Menos complicado de aprender comparado a otros lenguajes de programación (C/C++, FORTRAN, Java, etc.).\n",
    "* Utilizado para el desarrollo Web ([Django](https://www.djangoproject.com/), [Flask](https://flask.palletsprojects.com), [FastAPI](https://fastapi.tiangolo.com/) y [Tornado](https://www.tornadoweb.org/)).\n",
    "* Ampliamente usado en AI y *Machine Learning* ([Scikit-learn](https://scikit-learn.org), [Keras](https://keras.io/), [TensorFlow](https://www.tensorflow.org/), [PyTorch](https://pytorch.org/), [ONNX](https://onnx.ai/), etc.), análisis de datos, desarrollo de juegos, seguridad cibernética, pruebas de software, sistemas embebidos y mucho más.\n",
    "* Diversidad y Flexibilidad (especializarse en Web, Simulaciones, AI, *Machine Learning*, *Deep Learning*, etc.).\n",
    "* Apliamente utilizado en la [industria y academia](https://brainstation.io/career-guides/who-uses-python-today) (usado por grandes empresas y grupos de investigación científica de alto nivel)."
   ]
  },
  {
   "cell_type": "markdown",
   "id": "b52b6e32",
   "metadata": {
    "slideshow": {
     "slide_type": "slide"
    }
   },
   "source": [
    "### [Principales lenguajes de programación]( https://octoverse.github.com/#top-languages-over-the-years) (GitHub)\n",
    "\n",
    "<br>\n",
    "<img src=\"./../images/lang-prog-over-years.png\" width=700/>"
   ]
  },
  {
   "cell_type": "markdown",
   "id": "afb010b5",
   "metadata": {
    "slideshow": {
     "slide_type": "slide"
    }
   },
   "source": [
    "### Principales características de Python\n",
    "\n",
    "* Posee una extensa [**librería estándar**](https://pypi.org/) que están disponibles **gratuitamente**.\n",
    "* Hay una extensa cantidad de módulos, programas y herramientas gratuitos de **terceros**.\n",
    "* Python acepta funciones y tipos de datos implementados en C, C++, FORTRAN, Julia, e otros.\n",
    "* Es un lenguaje de programación **interpretado** y de **alto nivel**.\n",
    "* Tiene un tipado **fuerte** y **dinámico**.\n",
    "* Diseño iterativo y ágil (*read-evaluate-print loop* ([REPL](https://es.wikipedia.org/wiki/REPL)))."
   ]
  },
  {
   "cell_type": "markdown",
   "id": "e51e5fef",
   "metadata": {
    "heading_collapsed": true,
    "slideshow": {
     "slide_type": "slide"
    }
   },
   "source": [
    "### Código interpretado y compilado\n",
    "  <br>\n",
    "  <img src=\"./../images/codigo-compilado-vs-interpretado.png\" style=\"float: center\" width=700/>  "
   ]
  },
  {
   "cell_type": "markdown",
   "id": "afd1757f",
   "metadata": {
    "slideshow": {
     "slide_type": "slide"
    }
   },
   "source": [
    "### Lenguaje programación de alto y bajo nivel\n",
    "\n",
    "* Alto nivel, al leer el código, ya se presume lo que significa.\n",
    "  <img src=\"./../images/LevelsProgs.png\" style=\"float: center\" width=600/>"
   ]
  },
  {
   "cell_type": "markdown",
   "id": "6c069a29",
   "metadata": {
    "slideshow": {
     "slide_type": "slide"
    }
   },
   "source": [
    "### Lenguajes de programación de tipado **fuerte** y **dinámico**\n",
    "\n",
    "* Tipado se refiere a la forma cómo se declara las variables (entero, real, booleano, carácter, etc.)\n",
    "* En el tipado fuerte no podemos hacer operaciones entre variables de distintos tipos (necesario *casting*), por ejemplo, no podemos sumar una cadena con un entero. \n",
    "* En el tipado débil esta operación sí se puede realizar.\n",
    "* En el tipado estático, es obligatorio declar el tipo de dato que la variable recibirá, antes de atribuirle algún valor.\n",
    "* En el tipado dinámico, no es necesario declarar el tipo de dato que será almacenado en la variable. Ofrece una flexibilidad al programar, pero puede traer problemas, como errores por redeclarar la misma variable con valor de outro tipo."
   ]
  },
  {
   "cell_type": "markdown",
   "id": "d0c8697e",
   "metadata": {
    "hide_input": false,
    "slideshow": {
     "slide_type": "slide"
    }
   },
   "source": [
    "### Entorno de Desarrollo Integrado (IDE - *Integrated Development Environment*)\n",
    "\n",
    "* IDE es un software que ayuda a desarrollar, escribir, modificar y depurar códigos de manera eficiente.\n",
    "* Existen innumerables IDEs de desarrollo, cada una con su propio conjunto de herramientas, características,\n",
    "  paquetes adicionales y complementos únicos.\n",
    "* Hay IDEs gratuitas y pagos."
   ]
  },
  {
   "cell_type": "markdown",
   "id": "ec01d0e3",
   "metadata": {
    "slideshow": {
     "slide_type": "slide"
    }
   },
   "source": [
    "### IDEs más usadas\n",
    "\n",
    "* [Visual Studio Code (VS Code)](https://code.visualstudio.com/): código abierto (gratuito), multiplataforma y para prácticamente cualquier lenguaje de programación.\n",
    "* [PyCharm](https://www.jetbrains.com/pycharm/): diseñado sólo para Python, edición comunitaria (gratuita), edición pro (pago) y multiplataforma.\n",
    "* [Sublime Text](https://www.sublimetext.com/): gratuito, multiplataforma, interfaz sencilla y varias lenguejes de programación.\n",
    "* [Spyder](https://www.spyder-ide.org/): gratuito, multiplataforma, diseñado para Python y para científicos. \n",
    "* [Code::Blocks](https://www.codeblocks.org/): gratuito, multiplataforma, diseñado para C/C++ y Fortran.\n",
    "* Otros: [PyDev](https://www.pydev.org/), [Atom](https://atom.io/), etc."
   ]
  },
  {
   "cell_type": "markdown",
   "id": "31778c9c",
   "metadata": {
    "slideshow": {
     "slide_type": "slide"
    }
   },
   "source": [
    "### Entornos de programación interactivas\n",
    "\n",
    "* [REPL](https://es.wikipedia.org/wiki/REPL)\n",
    "* [IPython](https://ipython.org/)\n",
    "* [Jupyter](https://jupyter.org/)\n",
    "* [JupyterLab](https://docs.jupyter.org/en/latest/)\n",
    "* [JupyterHub](https://docs.jupyter.org/en/latest/)\n",
    "* [Google Colab](https://colab.research.google.com)\n",
    "* Otros: [Kaggle](https://www.kaggle.com/), [Deepnote](https://deepnote.com/), [Curvenote](https://curvenote.com), etc."
   ]
  },
  {
   "cell_type": "markdown",
   "id": "4679928a",
   "metadata": {
    "slideshow": {
     "slide_type": "slide"
    }
   },
   "source": [
    "#### [**REPL**](https://es.wikipedia.org/wiki/REPL)\n",
    "\n",
    "* Es un bucle de Lectura-Evaluación-Impresión\n",
    "* Es un entorno de programación interactiva basado en un proceso cíclico donde se lee un fragmento de código ingresado por el usuario, se evalúa y se devuelve un resultado al usuario (comandos, mostrar figura)."
   ]
  },
  {
   "cell_type": "markdown",
   "id": "74db35ab",
   "metadata": {
    "slideshow": {
     "slide_type": "slide"
    }
   },
   "source": [
    "#### [**IPython**](https://ipython.org/)\n",
    "  \n",
    "* Es un shell interactivo que añade funcionalidades extra al modo REPL.\n",
    "* Visualmente muestra mejor las líneas y errores del código, mediante colores.\n",
    "* Posee autocompletado mediante tabulador de variables, módulos y atributos; entre otras funcionalidades.\n",
    "* El **IPython Notebook** ahora se conoce como **Jupyter Notebook**."
   ]
  },
  {
   "cell_type": "markdown",
   "id": "814f989a",
   "metadata": {
    "slideshow": {
     "slide_type": "slide"
    }
   },
   "source": [
    "#### [**Jupyter**](https://jupyter.org/)\n",
    "\n",
    "* Se separó de IPython en 2014.\n",
    "* El Jupyter Project ha desarrollado y respaldado los productos de computación interactivos Jupyter Notebook, JupyterHub y JupyterLab (gratuitos de código abierto).\n",
    "* Los [kernels de Jupyter](https://github.com/jupyter/jupyter/wiki/Jupyter-kernels) permiten usar interfaces y herramientas de Jupyter con cualquier lenguaje de programación.\n",
    "* Los Jupyter Notebooks son un estándar comunitario para comunicarse y realizar computación interactiva. Son un documento que combina cálculos, resultados, texto explicativo, matemáticas, imágenes y representaciones multimedia de objetos.\n",
    "* Los Jupyter Notebooks son ejecutados en el navegador de internet.\n",
    "* Además, Jupyter preinstala bibliotecas populares de Python para el aprendizaje automático, como Numpy, Pandas, Scipy, Matplotlib, Scikit-learn, etc."
   ]
  },
  {
   "cell_type": "markdown",
   "id": "9f63d394",
   "metadata": {
    "slideshow": {
     "slide_type": "slide"
    }
   },
   "source": [
    "#### [**JupyterLab**](https://docs.jupyter.org/en/latest/)\n",
    "  \n",
    "* JupyterLab es una interfaz utilizada para crear e interactuar con Jupyter Notebooks.\n",
    "* JupyterLab es una interfaz de usuario basada en web de próxima generación para Project Jupyter. Le permite trabajar con documentos y actividades como cuadernos Jupyter, editores de texto, terminales y componentes personalizados de manera flexible, integrada y extensible.\n",
    "* JupyterLab se desarrolló para abordar algunas de las deficiencias de los portátiles Jupyter. Junto con el nuevo explorador de archivos y la experiencia similar a IDE, JupyterLab integra muchas extensiones excelentes que enriquecen su entorno de trabajo."
   ]
  },
  {
   "cell_type": "markdown",
   "id": "eacdbf6a",
   "metadata": {
    "slideshow": {
     "slide_type": "slide"
    }
   },
   "source": [
    "#### [**JupyterHub**](https://docs.jupyter.org/en/latest/)\n",
    "\n",
    "* JupyterHub es un servidor que permite el acceso simultáneo de varios usuarios a sus notebooks, ejecutando un servidor Jupyter de manera independiente para cada uno de ellos.\n",
    "* Jupyterhub es la mejor manera de servir a Jupyter Notebook para varios usuarios."
   ]
  },
  {
   "cell_type": "markdown",
   "id": "7d3ec792",
   "metadata": {
    "slideshow": {
     "slide_type": "slide"
    }
   },
   "source": [
    "#### [**Google Colab**](https://colab.research.google.com)\n",
    "\n",
    "* Google Colab está basada en la nube y creada por Google.\n",
    "* Permite escribir y ejecutar código Python/R.\n",
    "* Proporciona un entorno de programación completamente listo para usar dentro de nuestro navegador web, sin la necesidad de instalar ningún software en nuestras computadoras personales.\n",
    "* Acceso gratuito a las GPUs."
   ]
  },
  {
   "cell_type": "markdown",
   "id": "5d40b276",
   "metadata": {
    "slideshow": {
     "slide_type": "slide"
    }
   },
   "source": [
    "* [Kaggle](https://www.kaggle.com/)\n",
    "* [Deepnote](https://deepnote.com/)\n",
    "* [Curvenote](https://curvenote.com)"
   ]
  },
  {
   "cell_type": "markdown",
   "id": "efb89034",
   "metadata": {},
   "source": [
    "### Instalación de [Python](https://www.python.org/)\n",
    "\n",
    "<table border=\"0\">\n",
    " <tr>\n",
    "    <td><img src=\"./../images/python-download.png\" style=\"float: center\" width=500/></td>\n",
    "    <td><img src=\"./../images/python-install.png\" style=\"float: center\" width=500/></td>\n",
    " </tr>\n",
    "</table>"
   ]
  },
  {
   "cell_type": "markdown",
   "id": "00c5938f",
   "metadata": {
    "slideshow": {
     "slide_type": "slide"
    }
   },
   "source": [
    "### Instalación de [Anaconda](https://www.anaconda.com/)\n",
    "\n",
    "* Anaconda (extracto de la documentación oficial) con más de 25 millones de usuarios en todo el mundo y [**miles de librerías de código abierto**](https://docs.anaconda.com/anaconda/packages/py3.7_win-64/), es la forma más fácil de realizar ciencia de datos con Python/R y *Machine Learning* en un simple computador. Desarrollado para profesionales independientes.\n",
    "\n",
    "<table border=\"0\">\n",
    " <tr>\n",
    "    <td><img src=\"./../images/anaconda-download.png\" style=\"float: center\" width=600/></td>\n",
    "    <td><img src=\"./../images/anaconda-install.png\" style=\"float: center\" width=500/></td>\n",
    " </tr>\n",
    "</table>"
   ]
  },
  {
   "cell_type": "markdown",
   "id": "aca8fd13",
   "metadata": {
    "slideshow": {
     "slide_type": "slide"
    }
   },
   "source": [
    "### Anaconda Navigator\n",
    "\n",
    "* Anaconda Navigator es una interfaz gráfica de usuario (GUI) de Anaconda\n",
    "* Permite iniciar aplicaciones, administrar fácilmente paquetes, entornos virtuales y canales de paquetes sin usar la línea de comandos.\n",
    "\n",
    "  <img src=\"./../images/anaconda-navigator.png\" style=\"float: center\" width=800/>"
   ]
  },
  {
   "cell_type": "markdown",
   "id": "323e52cf",
   "metadata": {
    "slideshow": {
     "slide_type": "slide"
    }
   },
   "source": [
    "### Entorno virtual\n",
    "\n",
    "* En desarrollo de software se necesita de varios entornos de trabajo distintos, con distintas versiones del intérprete, distintas librerías, etc.\n",
    "* Una de las soluciones más comunes es usar varios ordenadores o varias máquinas virtuales.\n",
    "* Python facilita ese trabajo por medio de la **virtualenv**. Permite crear entornos virtuales de Python.\n",
    "* Un entorno virtual consta de un intérprete (podemos elegir la versión concreta) acompañado de todas las librerías que necesitemos instalar.\n",
    "* Se pueden tener varios entornos distintos, instalando en cada uno los módulos que necesitemos, sin que unos entornos afecten a los otros.\n",
    "\n",
    "<img src=\"./../images/PyVirt.png\" style=\"float: center\" width=800/>"
   ]
  },
  {
   "cell_type": "markdown",
   "id": "7a58733a",
   "metadata": {
    "slideshow": {
     "slide_type": "slide"
    }
   },
   "source": [
    "### Extensiones e comandos útiles\n",
    "\n",
    "* #### Jupyter Notebook\n",
    "\n",
    "  * ``$ conda install -c conda-forge jupyter_contrib_nbextensions``\n",
    "  * ``$ jupyter contrib nbextension install``\n",
    "    * Atajo para mover celdas, **Move selected cells**: ``Alt + arriba/abajo``\n",
    "    * Autocompletar texto, **Hinterland**\n",
    "    * Ocultar imputs, **Hide imput**\n",
    "    * Ocultar código, **Codefolding**\n",
    "    * Inspector de variables, **Variable inspector**\n",
    "    * Traductor de texto, **nbTranslate**\n",
    "    * Números de línea, **Toggle all line numbers**\n",
    "    * Slides, **RISE**, ``$ conda install -c conda-forge rise``\n",
    "  * Reiniciar Jupyter Notebook"
   ]
  }
 ],
 "metadata": {
  "hide_input": false,
  "kernelspec": {
   "display_name": "CursoHPC Python 3.10.4",
   "language": "python",
   "name": "cursohpc"
  },
  "language_info": {
   "codemirror_mode": {
    "name": "ipython",
    "version": 3
   },
   "file_extension": ".py",
   "mimetype": "text/x-python",
   "name": "python",
   "nbconvert_exporter": "python",
   "pygments_lexer": "ipython3",
   "version": "3.10.4"
  },
  "nbTranslate": {
   "displayLangs": [
    "es"
   ],
   "hotkey": "alt-t",
   "langInMainMenu": true,
   "sourceLang": "en",
   "targetLang": "es",
   "useGoogleTranslate": true
  },
  "toc": {
   "base_numbering": 1,
   "nav_menu": {},
   "number_sections": false,
   "sideBar": true,
   "skip_h1_title": false,
   "title_cell": "Table of Contents",
   "title_sidebar": "Contents",
   "toc_cell": false,
   "toc_position": {},
   "toc_section_display": true,
   "toc_window_display": false
  },
  "varInspector": {
   "cols": {
    "lenName": 16,
    "lenType": 16,
    "lenVar": 40
   },
   "kernels_config": {
    "python": {
     "delete_cmd_postfix": "",
     "delete_cmd_prefix": "del ",
     "library": "var_list.py",
     "varRefreshCmd": "print(var_dic_list())"
    },
    "r": {
     "delete_cmd_postfix": ") ",
     "delete_cmd_prefix": "rm(",
     "library": "var_list.r",
     "varRefreshCmd": "cat(var_dic_list()) "
    }
   },
   "types_to_exclude": [
    "module",
    "function",
    "builtin_function_or_method",
    "instance",
    "_Feature"
   ],
   "window_display": false
  }
 },
 "nbformat": 4,
 "nbformat_minor": 5
}
