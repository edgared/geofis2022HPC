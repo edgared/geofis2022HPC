{
 "cells": [
  {
   "cell_type": "markdown",
   "id": "a51a660f",
   "metadata": {
    "hide_input": false,
    "slideshow": {
     "slide_type": "slide"
    }
   },
   "source": [
    "<img src=\"./../images/logos-juntos.png\" style=\"float: center\" width=1000 style=\"padding-bottom:5px;\"/>\n",
    "\n",
    "<h2 style=\"text-align: center; font-size:4rem;\">Introducción a Python\n",
    "    <br><br><center>(<span style=\"color:chocolate\">Practicas</span>)</center>\n",
    "</h2>"
   ]
  },
  {
   "cell_type": "markdown",
   "id": "cfb1753a",
   "metadata": {},
   "source": [
    "## <center>Sintaxis</center>\n",
    "\n",
    "- ### Comentarios\n",
    "\n",
    "```python\n",
    "\"\"\"\n",
    "Esto es un comentario\n",
    "referente al código o\n",
    "funciones del algoritmo\n",
    "y algunas informaciones más\n",
    "\"\"\"\n",
    "print(\"Hola mundo!\") \n",
    "```\n",
    "\n",
    "```python\n",
    "# Esto tambien es un comentario\n",
    "a = \"Perú\"\n",
    "print(a)  # Así como este\n",
    "\n",
    "```"
   ]
  },
  {
   "cell_type": "markdown",
   "id": "f1808dde",
   "metadata": {},
   "source": [
    "- ### Tabulación<br>\n",
    "  - Se refiere a los espacios al comienzo de una línea de código.\n",
    "  - Mientras que en otros lenguajes de programación la tabulación en el código es solo para facilitar la lectura, en __Python es muy importante__.\n",
    "  ```python\n",
    "  a = 200\n",
    "  b = 33\n",
    "  if b > a:\n",
    "        print(\"b es mayor que a\")\n",
    "  elif a == b:\n",
    "        print(\"a y b son iguales\")\n",
    "  else:\n",
    "        print(\"a es mayor que b\")\n",
    "  ```"
   ]
  },
  {
   "cell_type": "markdown",
   "id": "1d9cd51f",
   "metadata": {},
   "source": [
    "## <center>Variables y tipos de datos</center>\n",
    "- Uno de los recursos más poderosos de los lenguajes de programación es la capacidad de manipular **variables**.\n",
    "- Una variable es un nombre que hace referencia a un **valor**.\n",
    "- Los **valores** son de diferentes **tipos de datos**.\n",
    "\n",
    "<img src=\"./../images/tipo-de-datos.png\" style=\"float: center\" width=400/>  "
   ]
  },
  {
   "cell_type": "markdown",
   "id": "38f54069",
   "metadata": {},
   "source": [
    "* Ejemplos\n",
    "```python\n",
    "x = 10\n",
    "pi = 3.1415926535897931\n",
    "mensaje = \"Aprendiendo Python!\"\n",
    "lista = [1,2,3,4,\"cinco\",\"seis\",7]\n",
    "tupla = (1,2,3,4,\"cinco\",\"seis\",7)\n",
    "diccionario = {\"Lima\":1, \"Piura\":2, \"Arequipa\":3}\n",
    "vector = np.array([1,2,3,4,5,\"seis\"])\n",
    "matriz = np.array([[1,4,3],[9,2,7]])\n",
    "print(type(pi))\n",
    "```"
   ]
  },
  {
   "cell_type": "markdown",
   "id": "cf106f2c",
   "metadata": {},
   "source": [
    "* ### Inspector de variables\n",
    "\n",
    "```python\n",
    "%whos\n",
    "del x\n",
    "```"
   ]
  },
  {
   "cell_type": "markdown",
   "id": "4be1d563",
   "metadata": {},
   "source": [
    "* ### _Casting_<br>\n",
    "Puede haber ocasiones en las que desee especificar un tipo en una variable. Esto se puede hacer con **casting**. La conversión en python se realiza mediante funciones:\n",
    "  * __``int()``__: construye un número entero a partir de un literal entero, un literal flotante (eliminando todos los decimales) o un literal de cadena (siempre que la cadena represente un número entero).\n",
    "  * __``float()``__: construye un número flotante a partir de un literal entero, un literal flotante o un literal de cadena (siempre que la cadena represente un flotante o un entero).\n",
    "  * __``str()``__: construye una cadena a partir de una amplia variedad de tipos de datos, incluidas cadenas, literales enteros y literales flotantes.<br><br>\n",
    "\n",
    "* Ejemplos:\n",
    "```python\n",
    "int(10)\n",
    "int(2.8)\n",
    "int(\"3\")\n",
    "float(15)\n",
    "float(12.76)\n",
    "float(\"6\")\n",
    "float(\"6.33\")\n",
    "float(\"4\")\n",
    "float(\"3.333\")\n",
    "str(\"peru\")\n",
    "str(2)\n",
    "str(5.68)\n",
    "``` "
   ]
  },
  {
   "cell_type": "markdown",
   "id": "3d77476e",
   "metadata": {},
   "source": [
    "## <center>Operadores</center>\n",
    "Los [operadores](https://www.w3schools.com/python/python_operators.asp) se utilizan para realizar operaciones en variables y valores.\n",
    "<br>\n",
    "<br>\n",
    "* ### Operadores de comparación \n",
    "\n",
    "    <img src=\"./../images/operadores-comparacion.png\" style=\"float: center\" width=350/>  \n",
    "\n",
    "* Ejemplo\n",
    "```python\n",
    "x = 9\n",
    "y = 1\n",
    "x < y\n",
    "x > y\n",
    "x == y\n",
    "```"
   ]
  },
  {
   "cell_type": "markdown",
   "id": "1090ec5d",
   "metadata": {},
   "source": [
    "* ### Operadores aritméticos\n",
    "\n",
    "<img src=\"./../images/operadores-aritmeticos.png\" style=\"float: center\" width=300/>  "
   ]
  },
  {
   "cell_type": "markdown",
   "id": "4df62a3f",
   "metadata": {},
   "source": [
    "* ### Operadores de asignación (principales)\n",
    "\n",
    "<img src=\"./../images/operadores-asignacion.png\" style=\"float: center\" width=600/>  "
   ]
  },
  {
   "cell_type": "markdown",
   "id": "e1f89225",
   "metadata": {},
   "source": [
    "* ### Operadores de pertenencia\n",
    "\n",
    "| Operador | Descripción |\n",
    "| :--- | :---: |\n",
    "| **in** | Devuelve **True** si el valor se encuentra en una secuencia; **False** en caso contrario |\n",
    "| **not in** | Devuelve **True** si el valor no se encuentra en una secuencia; **False** en caso contrario |\n",
    "\n",
    "* Ejemplo\n",
    "```python\n",
    "lista = [1, 3, 2, 7, 9, 8, 6]\n",
    "4 in lista\n",
    "3 in lista\n",
    "4 not in lista\n",
    "```\n"
   ]
  },
  {
   "cell_type": "markdown",
   "id": "4edf96da",
   "metadata": {},
   "source": [
    "* ### Operadores de identidad\n",
    "\n",
    "| Operador | Descripción |\n",
    "| :--- | :---: |\n",
    "| **is** | Devuelve **True** si ambos operandos hacen referencia al mismo objeto; **False** en caso contrario |\n",
    "| **is not** | Devuelve **True** si ambos operandos no hacen referencia al mismo objeto; **False** en caso contrario |\n",
    "\n",
    "* Ejemplo\n",
    "```python\n",
    "x = 4\n",
    "y = 2\n",
    "z = x\n",
    "lista = [1, 5]\n",
    "x is lista\n",
    "x is y\n",
    "x is 4\n",
    "id(x)\n",
    "```"
   ]
  },
  {
   "cell_type": "markdown",
   "id": "8e4f537a",
   "metadata": {},
   "source": [
    "* ### Operadores lógicos o booleanos\n",
    "\n",
    "| Operador | Descripción |\n",
    "| :---: | :--- |\n",
    "| a **and** b | **True** si tanto **a** como **b** son verdaderos. **False** de lo contrario  |\n",
    "| a **or** b | **True** si **a** o **b** son verdaderos. **False** de lo contrario |\n",
    "| **not** a| **True** si **a** es falso. **False** si **a** es verdadero |\n",
    "\n",
    "* Ejemplo\n",
    "\n",
    "```python\n",
    "    x = True\n",
    "    y = False\n",
    "    x or y\n",
    "    x and y\n",
    "    not x\n",
    "```"
   ]
  },
  {
   "cell_type": "markdown",
   "id": "8b9c56a8",
   "metadata": {},
   "source": [
    "## <center>Prioridad de los operadores</center>\n",
    "Los operadores en Python tienen un orden de prioridad. Este orden es el siguiente, de menos prioritario a más prioritario: asignación; operadores booleanos; operadores de comparación, identidad y pertenencia; a nivel de bits y finalmente los aritméticos (con el mismo orden de prioridad que en las matemáticas). Este orden de prioridad se puede alterar con el uso de los paréntesis ().\n",
    "\n",
    "| Prioridad | Operador | Descripción |\n",
    "|:---:|:---:|:---|\n",
    "| 1 |  __**__ | Exponente |\n",
    "| 2 | __*__ | Multiplicación |\n",
    "| 3 | **/** | División |\n",
    "| 4 | **//** | División entera |\n",
    "| 5 | **+** | Suma |\n",
    "| 6 | **-** | Resta |\n",
    "| 7 | __%__ | Módulo |"
   ]
  },
  {
   "cell_type": "markdown",
   "id": "8ee2248e",
   "metadata": {},
   "source": [
    "## <center>Modulos o paquetes\n",
    "\n",
    "Una característica que hace que Python sea realmente genial, son los diversos [**paquetes/módulos**](https://pypi.org/) desarrollados por la comunidad de usuarios. La mayoría de las veces, cuando desea aplicar algunas funciones o algoritmos, a menudo encontrará varios paquetes ya disponibles. Todo lo que necesita hacer es instalar los paquetes y usarlos en su código."
   ]
  },
  {
   "cell_type": "markdown",
   "id": "18e3bcaf",
   "metadata": {},
   "source": [
    "* ### [Módulos padron de Python](https://docs.python.org/3/py-modindex.html)<br>\n",
    "Los instaladores de Python para las diferentes plataformas suelen incluir la [La biblioteca estándar de Python](https://docs.python.org/3/library/) y, a menudo, también incluyen muchos componentes adicionales.\n",
    "<br><br>\n",
    "Para usar la funcionalidad presente en cualquier módulo, debe importarlo a su programa actual. Debe usar la palabra clave de ``import`` junto con el nombre del módulo deseado.\n",
    "<br><br>\n",
    "La instrucción ``from..import`` le permite importar funciones/variables específicas de un módulo en lugar de importarlo todo.\n",
    "<br><br>\n",
    "Se puede cambiar el nombre del módulo que está importando, lo que puede ser útil en los casos en que desea dar un nombre más significativo al módulo o el nombre del módulo es demasiado grande para usarlo repetidamente. Puede usar la palabra clave ``as`` para cambiarle el nombre."
   ]
  },
  {
   "cell_type": "markdown",
   "id": "e64413bf",
   "metadata": {},
   "source": [
    "* #### Módulo OS<br>\n",
    "Con este módulo es posible realizar automáticamente muchas tareas del Sistema Operativo. El módulo del sistema operativo en Python proporciona funciones para crear y eliminar un directorio (carpeta), recuperar su contenido, cambiar e identificar el directorio actual, etc.\n",
    "<br><br>\n",
    "* Ejemplo\n",
    "```python\n",
    "import os\n",
    "os.getcwd()\n",
    "'C:\\Python37'\n",
    "os.mkdir(\"MyPythonProject\")\n",
    "os.rmdir(\"MyPythonProject\")\n",
    "os.listdir(\"C:\\Python37\")\n",
    "\n",
    "```"
   ]
  },
  {
   "cell_type": "code",
   "execution_count": null,
   "id": "a62b25c0",
   "metadata": {},
   "outputs": [],
   "source": []
  },
  {
   "cell_type": "markdown",
   "id": "f79bb889",
   "metadata": {},
   "source": [
    "* #### Módulo Math\n",
    "\n",
    "```python\n",
    "import math\n",
    "from math import sin\n",
    "import math as matematica\n",
    "from math import cos as coseno\n",
    "import my_module\n",
    "```\n",
    "\n",
    "* Ejmeplos\n",
    "  * $\\sqrt(x)$\n",
    "  * $\\sin(\\pi/2)$\n",
    "  * $\\epsilon^{log(10)}$\n",
    "  * $\\epsilon^{3/4}$\n",
    "  * $4.6\\times{10}^{3} = 4.6\\epsilon{3}$\n",
    "  * <span class=\"girk\">Tarea</span>"
   ]
  },
  {
   "cell_type": "code",
   "execution_count": 1,
   "id": "a20a4ec4",
   "metadata": {},
   "outputs": [],
   "source": [
    "import math"
   ]
  },
  {
   "cell_type": "code",
   "execution_count": 2,
   "id": "291f2fcf",
   "metadata": {},
   "outputs": [
    {
     "data": {
      "text/plain": [
       "1.0"
      ]
     },
     "execution_count": 2,
     "metadata": {},
     "output_type": "execute_result"
    }
   ],
   "source": [
    "math.sin(math.pi/2)"
   ]
  },
  {
   "cell_type": "code",
   "execution_count": 3,
   "id": "21a4087b",
   "metadata": {},
   "outputs": [
    {
     "data": {
      "text/plain": [
       "1.0"
      ]
     },
     "execution_count": 3,
     "metadata": {},
     "output_type": "execute_result"
    }
   ],
   "source": [
    "math.log10(10)"
   ]
  },
  {
   "cell_type": "code",
   "execution_count": 4,
   "id": "ba1fc5d1",
   "metadata": {},
   "outputs": [
    {
     "data": {
      "text/plain": [
       "(2+5j)"
      ]
     },
     "execution_count": 4,
     "metadata": {},
     "output_type": "execute_result"
    }
   ],
   "source": [
    "complejo = complex(2,5)\n",
    "complejo"
   ]
  },
  {
   "cell_type": "code",
   "execution_count": 5,
   "id": "c2223940",
   "metadata": {},
   "outputs": [
    {
     "data": {
      "text/plain": [
       "4600.0"
      ]
     },
     "execution_count": 5,
     "metadata": {},
     "output_type": "execute_result"
    }
   ],
   "source": [
    "4.6e3"
   ]
  },
  {
   "cell_type": "markdown",
   "id": "7d7b5742",
   "metadata": {},
   "source": [
    "* #### Módulo Random\n",
    "\n",
    "```python\n",
    "import random\n",
    "```"
   ]
  },
  {
   "cell_type": "code",
   "execution_count": 6,
   "id": "c64b9798",
   "metadata": {},
   "outputs": [
    {
     "name": "stdout",
     "output_type": "stream",
     "text": [
      "0.8312052683760262\n",
      "0.10745088869421482\n",
      "0.2112417488008389\n",
      "0.915074241947914\n",
      "0.10400802214117988\n",
      "0.2316209394523555\n",
      "0.5394218605779247\n",
      "0.5670302919397432\n",
      "0.9198825228181491\n",
      "0.45985555468484185\n"
     ]
    }
   ],
   "source": [
    "import random\n",
    "\n",
    "for i in range(10):\n",
    "    xr = random.random()   #Números entre [0,1[\n",
    "    print(xr)\n"
   ]
  },
  {
   "cell_type": "code",
   "execution_count": 7,
   "id": "f3299381",
   "metadata": {},
   "outputs": [
    {
     "data": {
      "text/plain": [
       "53"
      ]
     },
     "execution_count": 7,
     "metadata": {},
     "output_type": "execute_result"
    }
   ],
   "source": [
    "random.randint(1,100)"
   ]
  },
  {
   "cell_type": "code",
   "execution_count": 8,
   "id": "b4b93b20",
   "metadata": {},
   "outputs": [
    {
     "data": {
      "text/plain": [
       "4"
      ]
     },
     "execution_count": 8,
     "metadata": {},
     "output_type": "execute_result"
    }
   ],
   "source": [
    "t = [1,2,3,4,5,6]\n",
    "random.choice(t)"
   ]
  },
  {
   "cell_type": "code",
   "execution_count": 9,
   "id": "6957e978",
   "metadata": {
    "scrolled": true
   },
   "outputs": [
    {
     "name": "stdout",
     "output_type": "stream",
     "text": [
      "Hola estimado, Docker\n"
     ]
    }
   ],
   "source": [
    "import mymodule\n",
    "\n",
    "mymodule.saludos(\"Docker\")"
   ]
  },
  {
   "cell_type": "markdown",
   "id": "40648cd9",
   "metadata": {},
   "source": [
    "* ### Administrando paquetes <br>\n",
    "\n",
    "    ```\n",
    "    pip install pip-search\n",
    "    pip_search package_name\n",
    "    pip install package_name\n",
    "    pip install package_name==1.5\n",
    "    pip uinstall package_name\n",
    "    pip show package_name\n",
    "    pip list\n",
    "    conda search package_name\n",
    "    conda install package_name\n",
    "    conda install package_name==1.5\n",
    "    conda uinstall package_name\n",
    "    conda list\n",
    "    ```   "
   ]
  },
  {
   "cell_type": "markdown",
   "id": "524d61de",
   "metadata": {},
   "source": [
    "### Strings"
   ]
  },
  {
   "cell_type": "code",
   "execution_count": 4,
   "id": "5a58d537",
   "metadata": {},
   "outputs": [
    {
     "name": "stdout",
     "output_type": "stream",
     "text": [
      "<class 'str'>\n",
      "['__add__', '__class__', '__contains__', '__delattr__', '__dir__', '__doc__', '__eq__', '__format__', '__ge__', '__getattribute__', '__getitem__', '__getnewargs__', '__gt__', '__hash__', '__init__', '__init_subclass__', '__iter__', '__le__', '__len__', '__lt__', '__mod__', '__mul__', '__ne__', '__new__', '__reduce__', '__reduce_ex__', '__repr__', '__rmod__', '__rmul__', '__setattr__', '__sizeof__', '__str__', '__subclasshook__', 'capitalize', 'casefold', 'center', 'count', 'encode', 'endswith', 'expandtabs', 'find', 'format', 'format_map', 'index', 'isalnum', 'isalpha', 'isascii', 'isdecimal', 'isdigit', 'isidentifier', 'islower', 'isnumeric', 'isprintable', 'isspace', 'istitle', 'isupper', 'join', 'ljust', 'lower', 'lstrip', 'maketrans', 'partition', 'removeprefix', 'removesuffix', 'replace', 'rfind', 'rindex', 'rjust', 'rpartition', 'rsplit', 'rstrip', 'split', 'splitlines', 'startswith', 'strip', 'swapcase', 'title', 'translate', 'upper', 'zfill']\n"
     ]
    }
   ],
   "source": [
    "coisa = \"Hola Mundo\"\n",
    "print(type(coisa))\n",
    "print(dir(coisa))"
   ]
  },
  {
   "cell_type": "code",
   "execution_count": 6,
   "id": "2627b853",
   "metadata": {},
   "outputs": [
    {
     "name": "stdout",
     "output_type": "stream",
     "text": [
      "Help on method_descriptor:\n",
      "\n",
      "capitalize(self, /)\n",
      "    Return a capitalized version of the string.\n",
      "    \n",
      "    More specifically, make the first character have upper case and the rest lower\n",
      "    case.\n",
      "\n"
     ]
    }
   ],
   "source": [
    "help(str.capitalize)"
   ]
  },
  {
   "cell_type": "code",
   "execution_count": 12,
   "id": "c71ac32e",
   "metadata": {},
   "outputs": [
    {
     "data": {
      "text/plain": [
       "'hola mundo'"
      ]
     },
     "execution_count": 12,
     "metadata": {},
     "output_type": "execute_result"
    }
   ],
   "source": [
    "coisa.lower()"
   ]
  },
  {
   "cell_type": "code",
   "execution_count": 13,
   "id": "f907babc",
   "metadata": {},
   "outputs": [
    {
     "name": "stdout",
     "output_type": "stream",
     "text": [
      "<class 'int'>\n"
     ]
    }
   ],
   "source": [
    "a = 209\n",
    "print(type(a))"
   ]
  },
  {
   "cell_type": "code",
   "execution_count": 21,
   "id": "30dffe41",
   "metadata": {
    "scrolled": false
   },
   "outputs": [
    {
     "name": "stdout",
     "output_type": "stream",
     "text": [
      "['__abs__', '__add__', '__and__', '__bool__', '__ceil__', '__class__', '__delattr__', '__dir__', '__divmod__', '__doc__', '__eq__', '__float__', '__floor__', '__floordiv__', '__format__', '__ge__', '__getattribute__', '__getnewargs__', '__gt__', '__hash__', '__index__', '__init__', '__init_subclass__', '__int__', '__invert__', '__le__', '__lshift__', '__lt__', '__mod__', '__mul__', '__ne__', '__neg__', '__new__', '__or__', '__pos__', '__pow__', '__radd__', '__rand__', '__rdivmod__', '__reduce__', '__reduce_ex__', '__repr__', '__rfloordiv__', '__rlshift__', '__rmod__', '__rmul__', '__ror__', '__round__', '__rpow__', '__rrshift__', '__rshift__', '__rsub__', '__rtruediv__', '__rxor__', '__setattr__', '__sizeof__', '__str__', '__sub__', '__subclasshook__', '__truediv__', '__trunc__', '__xor__', 'as_integer_ratio', 'bit_count', 'bit_length', 'conjugate', 'denominator', 'from_bytes', 'imag', 'numerator', 'real', 'to_bytes']\n"
     ]
    }
   ],
   "source": [
    "print(dir(a))"
   ]
  },
  {
   "cell_type": "code",
   "execution_count": 6,
   "id": "e2ebf801",
   "metadata": {},
   "outputs": [],
   "source": [
    "# https://github.com/ikatyang/emoji-cheat-sheet\n",
    "from rich import print"
   ]
  },
  {
   "cell_type": "code",
   "execution_count": 7,
   "id": "494bdb35",
   "metadata": {},
   "outputs": [
    {
     "data": {
      "text/html": [
       "<pre style=\"white-space:pre;overflow-x:auto;line-height:normal;font-family:Menlo,'DejaVu Sans Mono',consolas,'Courier New',monospace\">Son las <span style=\"color: #00ff00; text-decoration-color: #00ff00; font-weight: bold\">10:00</span>\n",
       "</pre>\n"
      ],
      "text/plain": [
       "Son las \u001b[1;92m10:00\u001b[0m\n"
      ]
     },
     "metadata": {},
     "output_type": "display_data"
    },
    {
     "data": {
      "text/html": [
       "<pre style=\"white-space:pre;overflow-x:auto;line-height:normal;font-family:Menlo,'DejaVu Sans Mono',consolas,'Courier New',monospace\"><span style=\"text-decoration: underline\">Esto</span> es un <span style=\"background-color: #008080\">test</span> <span style=\"color: #800000; text-decoration-color: #800000\">Peru</span> e <span style=\"color: #008080; text-decoration-color: #008080; font-weight: bold\">31.98</span>\n",
       "</pre>\n"
      ],
      "text/plain": [
       "\u001b[4mEsto\u001b[0m es un \u001b[46mtest\u001b[0m \u001b[31mPeru\u001b[0m e \u001b[1;36m31.98\u001b[0m\n"
      ]
     },
     "metadata": {},
     "output_type": "display_data"
    },
    {
     "data": {
      "text/html": [
       "<pre style=\"white-space:pre;overflow-x:auto;line-height:normal;font-family:Menlo,'DejaVu Sans Mono',consolas,'Courier New',monospace\"><span style=\"font-weight: bold\">{</span><span style=\"color: #008000; text-decoration-color: #008000\">\"Arequipa\"</span>: <span style=\"color: #008000; text-decoration-color: #008000\">\"Perú\"</span>, <span style=\"color: #008000; text-decoration-color: #008000\">\"Curso\"</span>: <span style=\"color: #008080; text-decoration-color: #008080; font-weight: bold\">10</span>, <span style=\"color: #008080; text-decoration-color: #008080; font-weight: bold\">100</span>: <span style=\"color: #008080; text-decoration-color: #008080; font-weight: bold\">101</span><span style=\"font-weight: bold\">}</span>\n",
       "</pre>\n"
      ],
      "text/plain": [
       "\u001b[1m{\u001b[0m\u001b[32m\"Arequipa\"\u001b[0m: \u001b[32m\"Perú\"\u001b[0m, \u001b[32m\"Curso\"\u001b[0m: \u001b[1;36m10\u001b[0m, \u001b[1;36m100\u001b[0m: \u001b[1;36m101\u001b[0m\u001b[1m}\u001b[0m\n"
      ]
     },
     "metadata": {},
     "output_type": "display_data"
    },
    {
     "data": {
      "text/html": [
       "<pre style=\"white-space:pre;overflow-x:auto;line-height:normal;font-family:Menlo,'DejaVu Sans Mono',consolas,'Courier New',monospace\">😎 muy bien!\n",
       "</pre>\n"
      ],
      "text/plain": [
       "😎 muy bien!\n"
      ]
     },
     "metadata": {},
     "output_type": "display_data"
    }
   ],
   "source": [
    "print(\"Son las 10:00\")\n",
    "aa = \"Peru\"\n",
    "bb = 15.99\n",
    "print(f\"[underline]Esto[/] es un [on cyan]test[/] [red]{aa}[/] e {bb + bb}\")\n",
    "print('{\"Arequipa\": \"Perú\", \"Curso\": 10, 100: 101}')\n",
    "print(\":sunglasses: muy bien!\")"
   ]
  },
  {
   "cell_type": "code",
   "execution_count": 8,
   "id": "5d32826c",
   "metadata": {},
   "outputs": [],
   "source": [
    "from rich.console import Console"
   ]
  },
  {
   "cell_type": "code",
   "execution_count": 9,
   "id": "29cdfe29",
   "metadata": {},
   "outputs": [
    {
     "data": {
      "text/html": [
       "<pre style=\"white-space:pre;overflow-x:auto;line-height:normal;font-family:Menlo,'DejaVu Sans Mono',consolas,'Courier New',monospace\"><span style=\"color: #008000; text-decoration-color: #008000; background-color: #800000; font-weight: bold; text-decoration: underline\">Las tareas son para elas </span><span style=\"color: #008080; text-decoration-color: #008080; background-color: #800000; font-weight: bold; text-decoration: underline\">12</span><span style=\"color: #008000; text-decoration-color: #008000; background-color: #800000; font-weight: bold; text-decoration: underline\"> y </span><span style=\"color: #008080; text-decoration-color: #008080; background-color: #800000; font-weight: bold; text-decoration: underline\">15</span><span style=\"color: #008000; text-decoration-color: #008000; background-color: #800000; font-weight: bold; text-decoration: underline\"> hrs</span>\n",
       "</pre>\n"
      ],
      "text/plain": [
       "\u001b[1;4;32;41mLas tareas son para elas \u001b[0m\u001b[1;4;36;41m12\u001b[0m\u001b[1;4;32;41m y \u001b[0m\u001b[1;4;36;41m15\u001b[0m\u001b[1;4;32;41m hrs\u001b[0m\n"
      ]
     },
     "metadata": {},
     "output_type": "display_data"
    }
   ],
   "source": [
    "console = Console()\n",
    "console.print(\"Las tareas son para elas 12 y 15 hrs\", style=\"green bold underline on red\")"
   ]
  },
  {
   "cell_type": "code",
   "execution_count": 10,
   "id": "a7a5a402",
   "metadata": {},
   "outputs": [],
   "source": [
    "from rich.progress import track\n",
    "from time import sleep"
   ]
  },
  {
   "cell_type": "code",
   "execution_count": 11,
   "id": "6174aed5",
   "metadata": {},
   "outputs": [
    {
     "data": {
      "application/vnd.jupyter.widget-view+json": {
       "model_id": "6e716fa1e6a74e7ebfcd442e013f5fbb",
       "version_major": 2,
       "version_minor": 0
      },
      "text/plain": [
       "Output()"
      ]
     },
     "metadata": {},
     "output_type": "display_data"
    },
    {
     "data": {
      "text/html": [
       "<pre style=\"white-space:pre;overflow-x:auto;line-height:normal;font-family:Menlo,'DejaVu Sans Mono',consolas,'Courier New',monospace\"></pre>\n"
      ],
      "text/plain": []
     },
     "metadata": {},
     "output_type": "display_data"
    },
    {
     "data": {
      "text/html": [
       "<pre style=\"white-space:pre;overflow-x:auto;line-height:normal;font-family:Menlo,'DejaVu Sans Mono',consolas,'Courier New',monospace\">\n",
       "</pre>\n"
      ],
      "text/plain": [
       "\n"
      ]
     },
     "metadata": {},
     "output_type": "display_data"
    }
   ],
   "source": [
    "for tarea in track(range(10),\"Procesando...\"):\n",
    "    sleep(1)"
   ]
  },
  {
   "cell_type": "code",
   "execution_count": 12,
   "id": "63bcade3",
   "metadata": {},
   "outputs": [
    {
     "data": {
      "application/vnd.jupyter.widget-view+json": {
       "model_id": "",
       "version_major": 2,
       "version_minor": 0
      },
      "text/plain": [
       "Output()"
      ]
     },
     "metadata": {},
     "output_type": "display_data"
    },
    {
     "data": {
      "text/html": [
       "<pre style=\"white-space:pre;overflow-x:auto;line-height:normal;font-family:Menlo,'DejaVu Sans Mono',consolas,'Courier New',monospace\"><span style=\"color: #7fbfbf; text-decoration-color: #7fbfbf\">[11:50:03] </span>Tarea <span style=\"color: #008080; text-decoration-color: #008080; font-weight: bold\">0</span> finalizada!                                                <a href=\"file:///tmp/ipykernel_32970/4213859836.py\"><span style=\"color: #7f7f7f; text-decoration-color: #7f7f7f\">4213859836.py</span></a><span style=\"color: #7f7f7f; text-decoration-color: #7f7f7f\">:</span><a href=\"file:///tmp/ipykernel_32970/4213859836.py#6\"><span style=\"color: #7f7f7f; text-decoration-color: #7f7f7f\">6</span></a>\n",
       "</pre>\n"
      ],
      "text/plain": [
       "\u001b[2;36m[11:50:03]\u001b[0m\u001b[2;36m \u001b[0mTarea \u001b[1;36m0\u001b[0m finalizada!                                                \u001b]8;id=632325;file:///tmp/ipykernel_32970/4213859836.py\u001b\\\u001b[2m4213859836.py\u001b[0m\u001b]8;;\u001b\\\u001b[2m:\u001b[0m\u001b]8;id=997512;file:///tmp/ipykernel_32970/4213859836.py#6\u001b\\\u001b[2m6\u001b[0m\u001b]8;;\u001b\\\n"
      ]
     },
     "metadata": {},
     "output_type": "display_data"
    },
    {
     "data": {
      "text/html": [
       "<pre style=\"white-space:pre;overflow-x:auto;line-height:normal;font-family:Menlo,'DejaVu Sans Mono',consolas,'Courier New',monospace\"><span style=\"color: #7fbfbf; text-decoration-color: #7fbfbf\">[11:50:04] </span>Tarea <span style=\"color: #008080; text-decoration-color: #008080; font-weight: bold\">1</span> finalizada!                                                <a href=\"file:///tmp/ipykernel_32970/4213859836.py\"><span style=\"color: #7f7f7f; text-decoration-color: #7f7f7f\">4213859836.py</span></a><span style=\"color: #7f7f7f; text-decoration-color: #7f7f7f\">:</span><a href=\"file:///tmp/ipykernel_32970/4213859836.py#6\"><span style=\"color: #7f7f7f; text-decoration-color: #7f7f7f\">6</span></a>\n",
       "</pre>\n"
      ],
      "text/plain": [
       "\u001b[2;36m[11:50:04]\u001b[0m\u001b[2;36m \u001b[0mTarea \u001b[1;36m1\u001b[0m finalizada!                                                \u001b]8;id=229119;file:///tmp/ipykernel_32970/4213859836.py\u001b\\\u001b[2m4213859836.py\u001b[0m\u001b]8;;\u001b\\\u001b[2m:\u001b[0m\u001b]8;id=47620;file:///tmp/ipykernel_32970/4213859836.py#6\u001b\\\u001b[2m6\u001b[0m\u001b]8;;\u001b\\\n"
      ]
     },
     "metadata": {},
     "output_type": "display_data"
    },
    {
     "data": {
      "text/html": [
       "<pre style=\"white-space:pre;overflow-x:auto;line-height:normal;font-family:Menlo,'DejaVu Sans Mono',consolas,'Courier New',monospace\"><span style=\"color: #7fbfbf; text-decoration-color: #7fbfbf\">[11:50:05] </span>Tarea <span style=\"color: #008080; text-decoration-color: #008080; font-weight: bold\">2</span> finalizada!                                                <a href=\"file:///tmp/ipykernel_32970/4213859836.py\"><span style=\"color: #7f7f7f; text-decoration-color: #7f7f7f\">4213859836.py</span></a><span style=\"color: #7f7f7f; text-decoration-color: #7f7f7f\">:</span><a href=\"file:///tmp/ipykernel_32970/4213859836.py#6\"><span style=\"color: #7f7f7f; text-decoration-color: #7f7f7f\">6</span></a>\n",
       "</pre>\n"
      ],
      "text/plain": [
       "\u001b[2;36m[11:50:05]\u001b[0m\u001b[2;36m \u001b[0mTarea \u001b[1;36m2\u001b[0m finalizada!                                                \u001b]8;id=986221;file:///tmp/ipykernel_32970/4213859836.py\u001b\\\u001b[2m4213859836.py\u001b[0m\u001b]8;;\u001b\\\u001b[2m:\u001b[0m\u001b]8;id=657740;file:///tmp/ipykernel_32970/4213859836.py#6\u001b\\\u001b[2m6\u001b[0m\u001b]8;;\u001b\\\n"
      ]
     },
     "metadata": {},
     "output_type": "display_data"
    },
    {
     "data": {
      "text/html": [
       "<pre style=\"white-space:pre;overflow-x:auto;line-height:normal;font-family:Menlo,'DejaVu Sans Mono',consolas,'Courier New',monospace\"><span style=\"color: #7fbfbf; text-decoration-color: #7fbfbf\">[11:50:06] </span>Tarea <span style=\"color: #008080; text-decoration-color: #008080; font-weight: bold\">3</span> finalizada!                                                <a href=\"file:///tmp/ipykernel_32970/4213859836.py\"><span style=\"color: #7f7f7f; text-decoration-color: #7f7f7f\">4213859836.py</span></a><span style=\"color: #7f7f7f; text-decoration-color: #7f7f7f\">:</span><a href=\"file:///tmp/ipykernel_32970/4213859836.py#6\"><span style=\"color: #7f7f7f; text-decoration-color: #7f7f7f\">6</span></a>\n",
       "</pre>\n"
      ],
      "text/plain": [
       "\u001b[2;36m[11:50:06]\u001b[0m\u001b[2;36m \u001b[0mTarea \u001b[1;36m3\u001b[0m finalizada!                                                \u001b]8;id=534929;file:///tmp/ipykernel_32970/4213859836.py\u001b\\\u001b[2m4213859836.py\u001b[0m\u001b]8;;\u001b\\\u001b[2m:\u001b[0m\u001b]8;id=46633;file:///tmp/ipykernel_32970/4213859836.py#6\u001b\\\u001b[2m6\u001b[0m\u001b]8;;\u001b\\\n"
      ]
     },
     "metadata": {},
     "output_type": "display_data"
    },
    {
     "data": {
      "text/html": [
       "<pre style=\"white-space:pre;overflow-x:auto;line-height:normal;font-family:Menlo,'DejaVu Sans Mono',consolas,'Courier New',monospace\"><span style=\"color: #7fbfbf; text-decoration-color: #7fbfbf\">[11:50:07] </span>Tarea <span style=\"color: #008080; text-decoration-color: #008080; font-weight: bold\">4</span> finalizada!                                                <a href=\"file:///tmp/ipykernel_32970/4213859836.py\"><span style=\"color: #7f7f7f; text-decoration-color: #7f7f7f\">4213859836.py</span></a><span style=\"color: #7f7f7f; text-decoration-color: #7f7f7f\">:</span><a href=\"file:///tmp/ipykernel_32970/4213859836.py#6\"><span style=\"color: #7f7f7f; text-decoration-color: #7f7f7f\">6</span></a>\n",
       "</pre>\n"
      ],
      "text/plain": [
       "\u001b[2;36m[11:50:07]\u001b[0m\u001b[2;36m \u001b[0mTarea \u001b[1;36m4\u001b[0m finalizada!                                                \u001b]8;id=843508;file:///tmp/ipykernel_32970/4213859836.py\u001b\\\u001b[2m4213859836.py\u001b[0m\u001b]8;;\u001b\\\u001b[2m:\u001b[0m\u001b]8;id=281343;file:///tmp/ipykernel_32970/4213859836.py#6\u001b\\\u001b[2m6\u001b[0m\u001b]8;;\u001b\\\n"
      ]
     },
     "metadata": {},
     "output_type": "display_data"
    },
    {
     "data": {
      "text/html": [
       "<pre style=\"white-space:pre;overflow-x:auto;line-height:normal;font-family:Menlo,'DejaVu Sans Mono',consolas,'Courier New',monospace\"><span style=\"color: #7fbfbf; text-decoration-color: #7fbfbf\">[11:50:08] </span>Tarea <span style=\"color: #008080; text-decoration-color: #008080; font-weight: bold\">5</span> finalizada!                                                <a href=\"file:///tmp/ipykernel_32970/4213859836.py\"><span style=\"color: #7f7f7f; text-decoration-color: #7f7f7f\">4213859836.py</span></a><span style=\"color: #7f7f7f; text-decoration-color: #7f7f7f\">:</span><a href=\"file:///tmp/ipykernel_32970/4213859836.py#6\"><span style=\"color: #7f7f7f; text-decoration-color: #7f7f7f\">6</span></a>\n",
       "</pre>\n"
      ],
      "text/plain": [
       "\u001b[2;36m[11:50:08]\u001b[0m\u001b[2;36m \u001b[0mTarea \u001b[1;36m5\u001b[0m finalizada!                                                \u001b]8;id=760686;file:///tmp/ipykernel_32970/4213859836.py\u001b\\\u001b[2m4213859836.py\u001b[0m\u001b]8;;\u001b\\\u001b[2m:\u001b[0m\u001b]8;id=204817;file:///tmp/ipykernel_32970/4213859836.py#6\u001b\\\u001b[2m6\u001b[0m\u001b]8;;\u001b\\\n"
      ]
     },
     "metadata": {},
     "output_type": "display_data"
    },
    {
     "data": {
      "text/html": [
       "<pre style=\"white-space:pre;overflow-x:auto;line-height:normal;font-family:Menlo,'DejaVu Sans Mono',consolas,'Courier New',monospace\"><span style=\"color: #7fbfbf; text-decoration-color: #7fbfbf\">[11:50:09] </span>Tarea <span style=\"color: #008080; text-decoration-color: #008080; font-weight: bold\">6</span> finalizada!                                                <a href=\"file:///tmp/ipykernel_32970/4213859836.py\"><span style=\"color: #7f7f7f; text-decoration-color: #7f7f7f\">4213859836.py</span></a><span style=\"color: #7f7f7f; text-decoration-color: #7f7f7f\">:</span><a href=\"file:///tmp/ipykernel_32970/4213859836.py#6\"><span style=\"color: #7f7f7f; text-decoration-color: #7f7f7f\">6</span></a>\n",
       "</pre>\n"
      ],
      "text/plain": [
       "\u001b[2;36m[11:50:09]\u001b[0m\u001b[2;36m \u001b[0mTarea \u001b[1;36m6\u001b[0m finalizada!                                                \u001b]8;id=177873;file:///tmp/ipykernel_32970/4213859836.py\u001b\\\u001b[2m4213859836.py\u001b[0m\u001b]8;;\u001b\\\u001b[2m:\u001b[0m\u001b]8;id=174505;file:///tmp/ipykernel_32970/4213859836.py#6\u001b\\\u001b[2m6\u001b[0m\u001b]8;;\u001b\\\n"
      ]
     },
     "metadata": {},
     "output_type": "display_data"
    },
    {
     "data": {
      "text/html": [
       "<pre style=\"white-space:pre;overflow-x:auto;line-height:normal;font-family:Menlo,'DejaVu Sans Mono',consolas,'Courier New',monospace\"><span style=\"color: #7fbfbf; text-decoration-color: #7fbfbf\">[11:50:10] </span>Tarea <span style=\"color: #008080; text-decoration-color: #008080; font-weight: bold\">7</span> finalizada!                                                <a href=\"file:///tmp/ipykernel_32970/4213859836.py\"><span style=\"color: #7f7f7f; text-decoration-color: #7f7f7f\">4213859836.py</span></a><span style=\"color: #7f7f7f; text-decoration-color: #7f7f7f\">:</span><a href=\"file:///tmp/ipykernel_32970/4213859836.py#6\"><span style=\"color: #7f7f7f; text-decoration-color: #7f7f7f\">6</span></a>\n",
       "</pre>\n"
      ],
      "text/plain": [
       "\u001b[2;36m[11:50:10]\u001b[0m\u001b[2;36m \u001b[0mTarea \u001b[1;36m7\u001b[0m finalizada!                                                \u001b]8;id=754425;file:///tmp/ipykernel_32970/4213859836.py\u001b\\\u001b[2m4213859836.py\u001b[0m\u001b]8;;\u001b\\\u001b[2m:\u001b[0m\u001b]8;id=981696;file:///tmp/ipykernel_32970/4213859836.py#6\u001b\\\u001b[2m6\u001b[0m\u001b]8;;\u001b\\\n"
      ]
     },
     "metadata": {},
     "output_type": "display_data"
    },
    {
     "data": {
      "text/html": [
       "<pre style=\"white-space:pre;overflow-x:auto;line-height:normal;font-family:Menlo,'DejaVu Sans Mono',consolas,'Courier New',monospace\"><span style=\"color: #7fbfbf; text-decoration-color: #7fbfbf\">[11:50:11] </span>Tarea <span style=\"color: #008080; text-decoration-color: #008080; font-weight: bold\">8</span> finalizada!                                                <a href=\"file:///tmp/ipykernel_32970/4213859836.py\"><span style=\"color: #7f7f7f; text-decoration-color: #7f7f7f\">4213859836.py</span></a><span style=\"color: #7f7f7f; text-decoration-color: #7f7f7f\">:</span><a href=\"file:///tmp/ipykernel_32970/4213859836.py#6\"><span style=\"color: #7f7f7f; text-decoration-color: #7f7f7f\">6</span></a>\n",
       "</pre>\n"
      ],
      "text/plain": [
       "\u001b[2;36m[11:50:11]\u001b[0m\u001b[2;36m \u001b[0mTarea \u001b[1;36m8\u001b[0m finalizada!                                                \u001b]8;id=585853;file:///tmp/ipykernel_32970/4213859836.py\u001b\\\u001b[2m4213859836.py\u001b[0m\u001b]8;;\u001b\\\u001b[2m:\u001b[0m\u001b]8;id=759503;file:///tmp/ipykernel_32970/4213859836.py#6\u001b\\\u001b[2m6\u001b[0m\u001b]8;;\u001b\\\n"
      ]
     },
     "metadata": {},
     "output_type": "display_data"
    },
    {
     "data": {
      "text/html": [
       "<pre style=\"white-space:pre;overflow-x:auto;line-height:normal;font-family:Menlo,'DejaVu Sans Mono',consolas,'Courier New',monospace\"><span style=\"color: #7fbfbf; text-decoration-color: #7fbfbf\">[11:50:12] </span>Tarea <span style=\"color: #008080; text-decoration-color: #008080; font-weight: bold\">9</span> finalizada!                                                <a href=\"file:///tmp/ipykernel_32970/4213859836.py\"><span style=\"color: #7f7f7f; text-decoration-color: #7f7f7f\">4213859836.py</span></a><span style=\"color: #7f7f7f; text-decoration-color: #7f7f7f\">:</span><a href=\"file:///tmp/ipykernel_32970/4213859836.py#6\"><span style=\"color: #7f7f7f; text-decoration-color: #7f7f7f\">6</span></a>\n",
       "</pre>\n"
      ],
      "text/plain": [
       "\u001b[2;36m[11:50:12]\u001b[0m\u001b[2;36m \u001b[0mTarea \u001b[1;36m9\u001b[0m finalizada!                                                \u001b]8;id=105910;file:///tmp/ipykernel_32970/4213859836.py\u001b\\\u001b[2m4213859836.py\u001b[0m\u001b]8;;\u001b\\\u001b[2m:\u001b[0m\u001b]8;id=100793;file:///tmp/ipykernel_32970/4213859836.py#6\u001b\\\u001b[2m6\u001b[0m\u001b]8;;\u001b\\\n"
      ]
     },
     "metadata": {},
     "output_type": "display_data"
    },
    {
     "data": {
      "text/html": [
       "<pre style=\"white-space:pre;overflow-x:auto;line-height:normal;font-family:Menlo,'DejaVu Sans Mono',consolas,'Courier New',monospace\"></pre>\n"
      ],
      "text/plain": []
     },
     "metadata": {},
     "output_type": "display_data"
    }
   ],
   "source": [
    "def crear_archivos():\n",
    "    for i in range(10):\n",
    "        with open(f\"archivo{i}.txt\",\"w\") as file:\n",
    "            file.write(\"Creando un nuevo archivo\")\n",
    "            sleep(1)\n",
    "            console.log(f\"Tarea {i} finalizada!\")\n",
    "\n",
    "with console.status(\"[green]Realizando la tarea...[/]\") as archivo:\n",
    "    crear_archivos()"
   ]
  },
  {
   "cell_type": "code",
   "execution_count": 13,
   "id": "0d964901",
   "metadata": {},
   "outputs": [],
   "source": [
    "from rich.table import Table"
   ]
  },
  {
   "cell_type": "code",
   "execution_count": 14,
   "id": "63829581",
   "metadata": {},
   "outputs": [
    {
     "data": {
      "text/html": [
       "<pre style=\"white-space:pre;overflow-x:auto;line-height:normal;font-family:Menlo,'DejaVu Sans Mono',consolas,'Courier New',monospace\"><span style=\"font-style: italic\">         Cursos favoritos         </span>\n",
       "┏━━━━━━━━━━━━━━━┳━━━━━━━━┳━━━━━━━┓\n",
       "┃<span style=\"font-weight: bold\"> Nombre        </span>┃<span style=\"font-weight: bold\"> Local  </span>┃<span style=\"font-weight: bold\"> Costo </span>┃\n",
       "┡━━━━━━━━━━━━━━━╇━━━━━━━━╇━━━━━━━┩\n",
       "│<span style=\"color: #008000; text-decoration-color: #008000\"> Python Flask  </span>│ Online │ 0     │\n",
       "│<span style=\"color: #008000; text-decoration-color: #008000\"> Python Djando </span>│ Online │ 250   │\n",
       "│<span style=\"color: #008000; text-decoration-color: #008000\"> Python        </span>│ Online │ 100   │\n",
       "└───────────────┴────────┴───────┘\n",
       "</pre>\n"
      ],
      "text/plain": [
       "\u001b[3m         Cursos favoritos         \u001b[0m\n",
       "┏━━━━━━━━━━━━━━━┳━━━━━━━━┳━━━━━━━┓\n",
       "┃\u001b[1m \u001b[0m\u001b[1mNombre\u001b[0m\u001b[1m       \u001b[0m\u001b[1m \u001b[0m┃\u001b[1m \u001b[0m\u001b[1mLocal \u001b[0m\u001b[1m \u001b[0m┃\u001b[1m \u001b[0m\u001b[1mCosto\u001b[0m\u001b[1m \u001b[0m┃\n",
       "┡━━━━━━━━━━━━━━━╇━━━━━━━━╇━━━━━━━┩\n",
       "│\u001b[32m \u001b[0m\u001b[32mPython Flask\u001b[0m\u001b[32m \u001b[0m\u001b[32m \u001b[0m│ Online │ 0     │\n",
       "│\u001b[32m \u001b[0m\u001b[32mPython Djando\u001b[0m\u001b[32m \u001b[0m│ Online │ 250   │\n",
       "│\u001b[32m \u001b[0m\u001b[32mPython\u001b[0m\u001b[32m       \u001b[0m\u001b[32m \u001b[0m│ Online │ 100   │\n",
       "└───────────────┴────────┴───────┘\n"
      ]
     },
     "metadata": {},
     "output_type": "display_data"
    }
   ],
   "source": [
    "table = Table(title=\"Cursos favoritos\")\n",
    "\n",
    "table.add_column(\"Nombre\", justify=\"lesft\",style=\"green\")\n",
    "table.add_column(\"Local\")\n",
    "table.add_column(\"Costo\")\n",
    "\n",
    "table.add_row(\"Python Flask\", \"Online\", \"0\")\n",
    "table.add_row(\"Python Djando\", \"Online\", \"250\")\n",
    "table.add_row(\"Python\", \"Online\", \"100\")\n",
    "\n",
    "console.print(table)"
   ]
  }
 ],
 "metadata": {
  "hide_input": false,
  "kernelspec": {
   "display_name": "CursoHPC Python 3.10.4",
   "language": "python",
   "name": "cursohpc"
  },
  "language_info": {
   "codemirror_mode": {
    "name": "ipython",
    "version": 3
   },
   "file_extension": ".py",
   "mimetype": "text/x-python",
   "name": "python",
   "nbconvert_exporter": "python",
   "pygments_lexer": "ipython3",
   "version": "3.10.4"
  },
  "nbTranslate": {
   "displayLangs": [
    "es"
   ],
   "hotkey": "alt-t",
   "langInMainMenu": true,
   "sourceLang": "en",
   "targetLang": "es",
   "useGoogleTranslate": true
  },
  "toc": {
   "base_numbering": 1,
   "nav_menu": {},
   "number_sections": false,
   "sideBar": true,
   "skip_h1_title": false,
   "title_cell": "Table of Contents",
   "title_sidebar": "Contents",
   "toc_cell": false,
   "toc_position": {},
   "toc_section_display": true,
   "toc_window_display": false
  },
  "varInspector": {
   "cols": {
    "lenName": 16,
    "lenType": 16,
    "lenVar": 40
   },
   "kernels_config": {
    "python": {
     "delete_cmd_postfix": "",
     "delete_cmd_prefix": "del ",
     "library": "var_list.py",
     "varRefreshCmd": "print(var_dic_list())"
    },
    "r": {
     "delete_cmd_postfix": ") ",
     "delete_cmd_prefix": "rm(",
     "library": "var_list.r",
     "varRefreshCmd": "cat(var_dic_list()) "
    }
   },
   "position": {
    "height": "241.851px",
    "left": "941.522px",
    "right": "20px",
    "top": "120px",
    "width": "350px"
   },
   "types_to_exclude": [
    "module",
    "function",
    "builtin_function_or_method",
    "instance",
    "_Feature"
   ],
   "window_display": false
  }
 },
 "nbformat": 4,
 "nbformat_minor": 5
}
